{
 "cells": [
  {
   "cell_type": "markdown",
   "metadata": {},
   "source": [
    "# The Financial Impacts of ESG Sustainability Scores"
   ]
  },
  {
   "cell_type": "markdown",
   "metadata": {},
   "source": [
    "### The purpose of this study is to see if sustainability ratings on yahoofinance.com have any relationships to perfomance or value metrics\n",
    "\n",
    "##### Data for this study was scraped from yahoofinance.com using Scrapy\n",
    "##### We will look at companies sorted by industry and sector"
   ]
  },
  {
   "cell_type": "code",
   "execution_count": null,
   "metadata": {},
   "outputs": [],
   "source": [
    "#companies with higher sustainability are worth the most?\n",
    "#what do you get for being sustainable?\n",
    "##worth more? (enterprise value and/or market cap, profitablity, other value metrics)\n",
    "##higher trading volume?\n",
    "#sort by sector, run regression analysis with esg as factor vs. value merics as independent variable"
   ]
  },
  {
   "cell_type": "code",
   "execution_count": 435,
   "metadata": {},
   "outputs": [
    {
     "data": {
      "text/html": [
       "<div>\n",
       "<style scoped>\n",
       "    .dataframe tbody tr th:only-of-type {\n",
       "        vertical-align: middle;\n",
       "    }\n",
       "\n",
       "    .dataframe tbody tr th {\n",
       "        vertical-align: top;\n",
       "    }\n",
       "\n",
       "    .dataframe thead th {\n",
       "        text-align: right;\n",
       "    }\n",
       "</style>\n",
       "<table border=\"1\" class=\"dataframe\">\n",
       "  <thead>\n",
       "    <tr style=\"text-align: right;\">\n",
       "      <th></th>\n",
       "      <th>avg_vol_3month</th>\n",
       "      <th>c_level</th>\n",
       "      <th>company_name</th>\n",
       "      <th>e_score</th>\n",
       "      <th>ebitda</th>\n",
       "      <th>employees</th>\n",
       "      <th>enterprise_value</th>\n",
       "      <th>fifty_day_moving_avg</th>\n",
       "      <th>forward_pe</th>\n",
       "      <th>g_score</th>\n",
       "      <th>...</th>\n",
       "      <th>return_on_equity</th>\n",
       "      <th>revenue</th>\n",
       "      <th>s_score</th>\n",
       "      <th>sector</th>\n",
       "      <th>ticker_name</th>\n",
       "      <th>tot_cash</th>\n",
       "      <th>tot_debt</th>\n",
       "      <th>tot_esg_score</th>\n",
       "      <th>trailing_pe</th>\n",
       "      <th>twohundred_day_moving_avg</th>\n",
       "    </tr>\n",
       "  </thead>\n",
       "  <tbody>\n",
       "    <tr>\n",
       "      <th>0</th>\n",
       "      <td>861.2k</td>\n",
       "      <td>NaN</td>\n",
       "      <td>10x Genomics, Inc.</td>\n",
       "      <td>NaN</td>\n",
       "      <td>-11.49M</td>\n",
       "      <td>670</td>\n",
       "      <td>9.05B</td>\n",
       "      <td>88.93</td>\n",
       "      <td></td>\n",
       "      <td>NaN</td>\n",
       "      <td>...</td>\n",
       "      <td>-22.56%</td>\n",
       "      <td>264.22M</td>\n",
       "      <td>NaN</td>\n",
       "      <td>Healthcare</td>\n",
       "      <td>TXG</td>\n",
       "      <td>372.43M</td>\n",
       "      <td>59.62M</td>\n",
       "      <td>NaN</td>\n",
       "      <td></td>\n",
       "      <td>79.70</td>\n",
       "    </tr>\n",
       "    <tr>\n",
       "      <th>1</th>\n",
       "      <td>155.39k</td>\n",
       "      <td>NaN</td>\n",
       "      <td>111, Inc.</td>\n",
       "      <td>NaN</td>\n",
       "      <td>NaN</td>\n",
       "      <td>1,932</td>\n",
       "      <td>504.34M</td>\n",
       "      <td>6.61</td>\n",
       "      <td></td>\n",
       "      <td>NaN</td>\n",
       "      <td>...</td>\n",
       "      <td>-57.58%</td>\n",
       "      <td>NaN</td>\n",
       "      <td>NaN</td>\n",
       "      <td>Healthcare</td>\n",
       "      <td>YI</td>\n",
       "      <td>NaN</td>\n",
       "      <td>NaN</td>\n",
       "      <td>NaN</td>\n",
       "      <td></td>\n",
       "      <td>6.74</td>\n",
       "    </tr>\n",
       "    <tr>\n",
       "      <th>2</th>\n",
       "      <td>5.28k</td>\n",
       "      <td>NaN</td>\n",
       "      <td>1347 Property Insurance Holdings, Inc.</td>\n",
       "      <td>NaN</td>\n",
       "      <td>NaN</td>\n",
       "      <td>2</td>\n",
       "      <td>17.26M</td>\n",
       "      <td>4.5475</td>\n",
       "      <td></td>\n",
       "      <td>NaN</td>\n",
       "      <td>...</td>\n",
       "      <td>-9.31%</td>\n",
       "      <td>-3.54M</td>\n",
       "      <td>NaN</td>\n",
       "      <td>Financial Services</td>\n",
       "      <td>PIH</td>\n",
       "      <td>27.67M</td>\n",
       "      <td>NaN</td>\n",
       "      <td>NaN</td>\n",
       "      <td>545.00</td>\n",
       "      <td>4.9256</td>\n",
       "    </tr>\n",
       "    <tr>\n",
       "      <th>3</th>\n",
       "      <td>1.64k</td>\n",
       "      <td>NaN</td>\n",
       "      <td>1347 Property Insurance Holdings, Inc.</td>\n",
       "      <td>NaN</td>\n",
       "      <td>NaN</td>\n",
       "      <td>2</td>\n",
       "      <td></td>\n",
       "      <td>24.99</td>\n",
       "      <td></td>\n",
       "      <td>NaN</td>\n",
       "      <td>...</td>\n",
       "      <td>-9.31%</td>\n",
       "      <td>-3.54M</td>\n",
       "      <td>NaN</td>\n",
       "      <td>Financial Services</td>\n",
       "      <td>PIHPP</td>\n",
       "      <td>27.67M</td>\n",
       "      <td>NaN</td>\n",
       "      <td>NaN</td>\n",
       "      <td></td>\n",
       "      <td>24.73</td>\n",
       "    </tr>\n",
       "    <tr>\n",
       "      <th>4</th>\n",
       "      <td>88.7k</td>\n",
       "      <td>NaN</td>\n",
       "      <td>180 Degree Capital Corp.</td>\n",
       "      <td>NaN</td>\n",
       "      <td>-4.8M</td>\n",
       "      <td>NaN</td>\n",
       "      <td></td>\n",
       "      <td>1.7626</td>\n",
       "      <td></td>\n",
       "      <td>NaN</td>\n",
       "      <td>...</td>\n",
       "      <td>14.87%</td>\n",
       "      <td>791.3k</td>\n",
       "      <td>NaN</td>\n",
       "      <td>Financial Services</td>\n",
       "      <td>TURN</td>\n",
       "      <td>11.33M</td>\n",
       "      <td>NaN</td>\n",
       "      <td>NaN</td>\n",
       "      <td>4.17</td>\n",
       "      <td>1.7393</td>\n",
       "    </tr>\n",
       "  </tbody>\n",
       "</table>\n",
       "<p>5 rows × 28 columns</p>\n",
       "</div>"
      ],
      "text/plain": [
       "  avg_vol_3month  c_level                            company_name  e_score  \\\n",
       "0         861.2k      NaN                      10x Genomics, Inc.      NaN   \n",
       "1        155.39k      NaN                               111, Inc.      NaN   \n",
       "2          5.28k      NaN  1347 Property Insurance Holdings, Inc.      NaN   \n",
       "3          1.64k      NaN  1347 Property Insurance Holdings, Inc.      NaN   \n",
       "4          88.7k      NaN                180 Degree Capital Corp.      NaN   \n",
       "\n",
       "    ebitda employees enterprise_value fifty_day_moving_avg forward_pe  \\\n",
       "0  -11.49M       670            9.05B                88.93              \n",
       "1      NaN     1,932          504.34M                 6.61              \n",
       "2      NaN         2           17.26M               4.5475              \n",
       "3      NaN         2                                 24.99              \n",
       "4    -4.8M       NaN                                1.7626              \n",
       "\n",
       "   g_score  ... return_on_equity  revenue s_score              sector  \\\n",
       "0      NaN  ...          -22.56%  264.22M     NaN          Healthcare   \n",
       "1      NaN  ...          -57.58%      NaN     NaN          Healthcare   \n",
       "2      NaN  ...           -9.31%   -3.54M     NaN  Financial Services   \n",
       "3      NaN  ...           -9.31%   -3.54M     NaN  Financial Services   \n",
       "4      NaN  ...           14.87%   791.3k     NaN  Financial Services   \n",
       "\n",
       "  ticker_name tot_cash tot_debt tot_esg_score trailing_pe  \\\n",
       "0         TXG  372.43M   59.62M           NaN               \n",
       "1          YI      NaN      NaN           NaN               \n",
       "2         PIH   27.67M      NaN           NaN      545.00   \n",
       "3       PIHPP   27.67M      NaN           NaN               \n",
       "4        TURN   11.33M      NaN           NaN        4.17   \n",
       "\n",
       "  twohundred_day_moving_avg  \n",
       "0                     79.70  \n",
       "1                      6.74  \n",
       "2                    4.9256  \n",
       "3                     24.73  \n",
       "4                    1.7393  \n",
       "\n",
       "[5 rows x 28 columns]"
      ]
     },
     "execution_count": 435,
     "metadata": {},
     "output_type": "execute_result"
    }
   ],
   "source": [
    "import pandas as pd\n",
    "import numpy as np\n",
    "import re\n",
    "\n",
    "'''read the csv containing yahoo finance data into a pandas dataframe'''\n",
    "\n",
    "df = pd.read_csv(\"yahoofinance.csv\")\n",
    "df.head()"
   ]
  },
  {
   "cell_type": "markdown",
   "metadata": {},
   "source": [
    "##### We first have to inspect the dataset and clean up anything that might impede the integrity of the data."
   ]
  },
  {
   "cell_type": "markdown",
   "metadata": {},
   "source": [
    "1) Changing strings to numbers or floats where appropriate -- K,M,B,T are used in this dataset to indicate thousands, millions, billions, and trillions, respectively\n",
    "\n",
    "2) Convert empty strings to None."
   ]
  },
  {
   "cell_type": "code",
   "execution_count": 436,
   "metadata": {},
   "outputs": [
    {
     "data": {
      "text/plain": [
       "Index(['avg_vol_3month', 'c_level', 'company_name', 'e_score', 'ebitda',\n",
       "       'employees', 'enterprise_value', 'fifty_day_moving_avg', 'forward_pe',\n",
       "       'g_score', 'held_by_insiders', 'held_by_institutions', 'hq', 'industry',\n",
       "       'market_cap', 'peg_ratio', 'profit_margin', 'return_on_assets',\n",
       "       'return_on_equity', 'revenue', 's_score', 'sector', 'ticker_name',\n",
       "       'tot_cash', 'tot_debt', 'tot_esg_score', 'trailing_pe',\n",
       "       'twohundred_day_moving_avg'],\n",
       "      dtype='object')"
      ]
     },
     "execution_count": 436,
     "metadata": {},
     "output_type": "execute_result"
    }
   ],
   "source": [
    "df.columns"
   ]
  },
  {
   "cell_type": "code",
   "execution_count": 437,
   "metadata": {},
   "outputs": [],
   "source": [
    "'''define a function to process the numeric data currently stored as a string'''\n",
    "\n",
    "def string_to_num (i):\n",
    "    if i != None and type(i) != float:\n",
    "            i = i.replace(',','')\n",
    "            if len(i)>1:\n",
    "                num = float(i[:-1])\n",
    "                mult = i[-1]\n",
    "                if mult == 'k' or mult =='K':\n",
    "                    i = num*1e4\n",
    "                if mult == 'M':\n",
    "                    i = num*1e6\n",
    "                if mult == 'B':\n",
    "                    i = num*1e9\n",
    "                if mult == 'T':\n",
    "                    i = num*1e12\n",
    "            else:\n",
    "                i = float(i)\n",
    "    return i"
   ]
  },
  {
   "cell_type": "code",
   "execution_count": 438,
   "metadata": {},
   "outputs": [
    {
     "data": {
      "text/plain": [
       "[9050000000.0,\n",
       " 120000.0,\n",
       " 1500000.0,\n",
       " 69000000000000.0,\n",
       " None,\n",
       " 3456000000.0,\n",
       " '12345',\n",
       " nan]"
      ]
     },
     "execution_count": 438,
     "metadata": {},
     "output_type": "execute_result"
    }
   ],
   "source": [
    "#test:\n",
    "x = ['9.05B','12k','1.5M','69T', None, '3.456B', '12,345', np.nan]\n",
    "list(map(string_to_num, x))"
   ]
  },
  {
   "cell_type": "code",
   "execution_count": 439,
   "metadata": {},
   "outputs": [],
   "source": [
    "df = df.replace('',np.nan)"
   ]
  },
  {
   "cell_type": "code",
   "execution_count": 440,
   "metadata": {},
   "outputs": [],
   "source": [
    "df = df.replace(' ',np.nan)"
   ]
  },
  {
   "cell_type": "code",
   "execution_count": 441,
   "metadata": {},
   "outputs": [],
   "source": [
    "df['enterprise_value'] = df['enterprise_value'].apply(string_to_num)\n",
    "df['avg_vol_3month'] = df['avg_vol_3month'].apply(string_to_num)\n",
    "df['c_level'] = df['c_level'].apply(string_to_num)\n",
    "df['e_score'] = df['e_score'].apply(string_to_num)\n",
    "df['ebitda'] = df['ebitda'].apply(string_to_num)\n",
    "df['employees'] = df['employees'].apply(string_to_num)\n",
    "df['avg_vol_3month'] = df['avg_vol_3month'].apply(string_to_num)\n",
    "df['fifty_day_moving_avg'] = df['fifty_day_moving_avg'].apply(string_to_num)\n",
    "df['forward_pe'] = df['forward_pe'].apply(string_to_num)\n",
    "df['g_score'] = df['g_score'].apply(string_to_num)\n",
    "df['market_cap'] = df['market_cap'].apply(string_to_num)\n",
    "df['peg_ratio'] = df['peg_ratio'].apply(string_to_num)\n",
    "df['revenue'] = df['revenue'].apply(string_to_num)\n",
    "df['s_score'] = df['s_score'].apply(string_to_num)\n",
    "df['tot_cash'] = df['tot_cash'].apply(string_to_num)\n",
    "df['tot_debt'] = df['tot_debt'].apply(string_to_num)\n",
    "df['tot_esg_score'] = df['tot_esg_score'].apply(string_to_num)\n",
    "df['trailing_pe'] = df['trailing_pe'].apply(string_to_num)\n",
    "df['twohundred_day_moving_avg'] = df['twohundred_day_moving_avg'].apply(string_to_num)"
   ]
  },
  {
   "cell_type": "code",
   "execution_count": 442,
   "metadata": {},
   "outputs": [],
   "source": [
    "'''define a function to clean percentages that are stored as strings'''\n",
    "\n",
    "def string_to_percent(i):\n",
    "    if i != None and type(i) != float:\n",
    "        i = i.replace(',','')\n",
    "        i = float(i[:-1])\n",
    "        i = i/100\n",
    "    return i"
   ]
  },
  {
   "cell_type": "code",
   "execution_count": 443,
   "metadata": {},
   "outputs": [],
   "source": [
    "df['return_on_assets'] = df['return_on_assets'].apply(string_to_percent)\n",
    "df['return_on_equity'] = df['return_on_equity'].apply(string_to_percent)\n",
    "df['profit_margin'] = df['profit_margin'].apply(string_to_percent)\n",
    "df['held_by_insiders'] = df['held_by_insiders'].apply(string_to_percent)\n",
    "df['held_by_institutions'] = df['held_by_institutions'].apply(string_to_percent)"
   ]
  },
  {
   "cell_type": "code",
   "execution_count": 447,
   "metadata": {},
   "outputs": [
    {
     "data": {
      "text/html": [
       "<div>\n",
       "<style scoped>\n",
       "    .dataframe tbody tr th:only-of-type {\n",
       "        vertical-align: middle;\n",
       "    }\n",
       "\n",
       "    .dataframe tbody tr th {\n",
       "        vertical-align: top;\n",
       "    }\n",
       "\n",
       "    .dataframe thead th {\n",
       "        text-align: right;\n",
       "    }\n",
       "</style>\n",
       "<table border=\"1\" class=\"dataframe\">\n",
       "  <thead>\n",
       "    <tr style=\"text-align: right;\">\n",
       "      <th></th>\n",
       "      <th>avg_vol_3month</th>\n",
       "      <th>c_level</th>\n",
       "      <th>company_name</th>\n",
       "      <th>e_score</th>\n",
       "      <th>ebitda</th>\n",
       "      <th>employees</th>\n",
       "      <th>enterprise_value</th>\n",
       "      <th>fifty_day_moving_avg</th>\n",
       "      <th>forward_pe</th>\n",
       "      <th>g_score</th>\n",
       "      <th>...</th>\n",
       "      <th>return_on_assets</th>\n",
       "      <th>return_on_equity</th>\n",
       "      <th>revenue</th>\n",
       "      <th>s_score</th>\n",
       "      <th>sector</th>\n",
       "      <th>tot_cash</th>\n",
       "      <th>tot_debt</th>\n",
       "      <th>tot_esg_score</th>\n",
       "      <th>trailing_pe</th>\n",
       "      <th>twohundred_day_moving_avg</th>\n",
       "    </tr>\n",
       "    <tr>\n",
       "      <th>ticker_name</th>\n",
       "      <th></th>\n",
       "      <th></th>\n",
       "      <th></th>\n",
       "      <th></th>\n",
       "      <th></th>\n",
       "      <th></th>\n",
       "      <th></th>\n",
       "      <th></th>\n",
       "      <th></th>\n",
       "      <th></th>\n",
       "      <th></th>\n",
       "      <th></th>\n",
       "      <th></th>\n",
       "      <th></th>\n",
       "      <th></th>\n",
       "      <th></th>\n",
       "      <th></th>\n",
       "      <th></th>\n",
       "      <th></th>\n",
       "      <th></th>\n",
       "      <th></th>\n",
       "    </tr>\n",
       "  </thead>\n",
       "  <tbody>\n",
       "    <tr>\n",
       "      <th>VIAC</th>\n",
       "      <td>1.236e+07</td>\n",
       "      <td>3.0</td>\n",
       "      <td>ViacomCBS Inc.</td>\n",
       "      <td>0.1</td>\n",
       "      <td>4.57e+09</td>\n",
       "      <td>23990</td>\n",
       "      <td>3.535000e+10</td>\n",
       "      <td>23.81</td>\n",
       "      <td>6.89</td>\n",
       "      <td>8.7</td>\n",
       "      <td>...</td>\n",
       "      <td>0.0710</td>\n",
       "      <td>0.2052</td>\n",
       "      <td>2.738000e+10</td>\n",
       "      <td>10.1</td>\n",
       "      <td>Communication Services</td>\n",
       "      <td>5.89e+08</td>\n",
       "      <td>2.038000e+10</td>\n",
       "      <td>19.0</td>\n",
       "      <td>8.46</td>\n",
       "      <td>23.32</td>\n",
       "    </tr>\n",
       "    <tr>\n",
       "      <th>NTES</th>\n",
       "      <td>9.284e+06</td>\n",
       "      <td>2.0</td>\n",
       "      <td>NetEase, Inc.</td>\n",
       "      <td>0.1</td>\n",
       "      <td>NaN</td>\n",
       "      <td>20797</td>\n",
       "      <td>5.651000e+10</td>\n",
       "      <td>439.90</td>\n",
       "      <td>24.75</td>\n",
       "      <td>7.4</td>\n",
       "      <td>...</td>\n",
       "      <td>0.0864</td>\n",
       "      <td>0.2277</td>\n",
       "      <td>NaN</td>\n",
       "      <td>11.0</td>\n",
       "      <td>Communication Services</td>\n",
       "      <td>NaN</td>\n",
       "      <td>NaN</td>\n",
       "      <td>19.0</td>\n",
       "      <td>29.55</td>\n",
       "      <td>366.71</td>\n",
       "    </tr>\n",
       "    <tr>\n",
       "      <th>AAPL</th>\n",
       "      <td>3.48e+07</td>\n",
       "      <td>3.0</td>\n",
       "      <td>Apple Inc.</td>\n",
       "      <td>0.5</td>\n",
       "      <td>7.731e+10</td>\n",
       "      <td>137000</td>\n",
       "      <td>1.630000e+12</td>\n",
       "      <td>366.21</td>\n",
       "      <td>24.51</td>\n",
       "      <td>10.1</td>\n",
       "      <td>...</td>\n",
       "      <td>0.1238</td>\n",
       "      <td>0.6209</td>\n",
       "      <td>2.679800e+11</td>\n",
       "      <td>13.0</td>\n",
       "      <td>Technology</td>\n",
       "      <td>9.405e+10</td>\n",
       "      <td>1.187600e+11</td>\n",
       "      <td>24.0</td>\n",
       "      <td>29.04</td>\n",
       "      <td>311.86</td>\n",
       "    </tr>\n",
       "    <tr>\n",
       "      <th>MRVL</th>\n",
       "      <td>9.21e+06</td>\n",
       "      <td>2.0</td>\n",
       "      <td>Marvell Technology Group Ltd.</td>\n",
       "      <td>5.8</td>\n",
       "      <td>4.0695e+08</td>\n",
       "      <td>5633</td>\n",
       "      <td>2.443000e+10</td>\n",
       "      <td>35.35</td>\n",
       "      <td>38.17</td>\n",
       "      <td>7.5</td>\n",
       "      <td>...</td>\n",
       "      <td>-0.0097</td>\n",
       "      <td>0.1928</td>\n",
       "      <td>2.730000e+09</td>\n",
       "      <td>8.8</td>\n",
       "      <td>Technology</td>\n",
       "      <td>6.6755e+08</td>\n",
       "      <td>1.600000e+09</td>\n",
       "      <td>22.0</td>\n",
       "      <td>15.77</td>\n",
       "      <td>27.85</td>\n",
       "    </tr>\n",
       "    <tr>\n",
       "      <th>LNT</th>\n",
       "      <td>1.47e+06</td>\n",
       "      <td>2.0</td>\n",
       "      <td>Alliant Energy Corporation</td>\n",
       "      <td>19.3</td>\n",
       "      <td>1.33e+09</td>\n",
       "      <td>3597</td>\n",
       "      <td>1.969000e+10</td>\n",
       "      <td>49.33</td>\n",
       "      <td>23.31</td>\n",
       "      <td>6.7</td>\n",
       "      <td>...</td>\n",
       "      <td>0.0290</td>\n",
       "      <td>0.1138</td>\n",
       "      <td>3.580000e+09</td>\n",
       "      <td>10.1</td>\n",
       "      <td>Utilities</td>\n",
       "      <td>5.52e+07</td>\n",
       "      <td>6.460000e+09</td>\n",
       "      <td>36.0</td>\n",
       "      <td>21.30</td>\n",
       "      <td>51.43</td>\n",
       "    </tr>\n",
       "  </tbody>\n",
       "</table>\n",
       "<p>5 rows × 27 columns</p>\n",
       "</div>"
      ],
      "text/plain": [
       "            avg_vol_3month  c_level                   company_name  e_score  \\\n",
       "ticker_name                                                                   \n",
       "VIAC             1.236e+07      3.0                 ViacomCBS Inc.      0.1   \n",
       "NTES             9.284e+06      2.0                  NetEase, Inc.      0.1   \n",
       "AAPL              3.48e+07      3.0                     Apple Inc.      0.5   \n",
       "MRVL              9.21e+06      2.0  Marvell Technology Group Ltd.      5.8   \n",
       "LNT               1.47e+06      2.0     Alliant Energy Corporation     19.3   \n",
       "\n",
       "                 ebitda employees  enterprise_value fifty_day_moving_avg  \\\n",
       "ticker_name                                                                \n",
       "VIAC           4.57e+09     23990      3.535000e+10                23.81   \n",
       "NTES                NaN     20797      5.651000e+10               439.90   \n",
       "AAPL          7.731e+10    137000      1.630000e+12               366.21   \n",
       "MRVL         4.0695e+08      5633      2.443000e+10                35.35   \n",
       "LNT            1.33e+09      3597      1.969000e+10                49.33   \n",
       "\n",
       "            forward_pe  g_score  ...  return_on_assets  return_on_equity  \\\n",
       "ticker_name                      ...                                       \n",
       "VIAC              6.89      8.7  ...            0.0710            0.2052   \n",
       "NTES             24.75      7.4  ...            0.0864            0.2277   \n",
       "AAPL             24.51     10.1  ...            0.1238            0.6209   \n",
       "MRVL             38.17      7.5  ...           -0.0097            0.1928   \n",
       "LNT              23.31      6.7  ...            0.0290            0.1138   \n",
       "\n",
       "                  revenue s_score                  sector    tot_cash  \\\n",
       "ticker_name                                                             \n",
       "VIAC         2.738000e+10    10.1  Communication Services    5.89e+08   \n",
       "NTES                  NaN    11.0  Communication Services         NaN   \n",
       "AAPL         2.679800e+11    13.0              Technology   9.405e+10   \n",
       "MRVL         2.730000e+09     8.8              Technology  6.6755e+08   \n",
       "LNT          3.580000e+09    10.1               Utilities    5.52e+07   \n",
       "\n",
       "                 tot_debt  tot_esg_score  trailing_pe  \\\n",
       "ticker_name                                             \n",
       "VIAC         2.038000e+10           19.0         8.46   \n",
       "NTES                  NaN           19.0        29.55   \n",
       "AAPL         1.187600e+11           24.0        29.04   \n",
       "MRVL         1.600000e+09           22.0        15.77   \n",
       "LNT          6.460000e+09           36.0        21.30   \n",
       "\n",
       "             twohundred_day_moving_avg  \n",
       "ticker_name                             \n",
       "VIAC                             23.32  \n",
       "NTES                            366.71  \n",
       "AAPL                            311.86  \n",
       "MRVL                             27.85  \n",
       "LNT                              51.43  \n",
       "\n",
       "[5 rows x 27 columns]"
      ]
     },
     "execution_count": 447,
     "metadata": {},
     "output_type": "execute_result"
    }
   ],
   "source": [
    "'''finally, drop all rows that do not include ESG ratings, since that is the scope of this project\n",
    "\n",
    "    I will call the final dataset 'data' to distinguish from raw data'''\n",
    "\n",
    "data = df.dropna(subset=['tot_esg_score']).set_index('ticker_name')\n",
    "data.sample(5)"
   ]
  },
  {
   "cell_type": "markdown",
   "metadata": {},
   "source": [
    "\n",
    "\n",
    "### The DataFrame is now clean and ready for analysis!\n",
    "\n"
   ]
  },
  {
   "cell_type": "markdown",
   "metadata": {},
   "source": [
    "Initial Observations:\n",
    "\n",
    "1) There are only 153 companies in this dataset with ESG ratings. Is it possible other exchanges besides NYSE have more companies with these ratings? I was expecting to see more since this has been a topic discussed widely, so this itself is interesting.\n",
    "\n",
    "2) There is not an even distribution of companies with ESG ratings by sector. When grouping, we will want to drop outlyers"
   ]
  },
  {
   "cell_type": "code",
   "execution_count": 449,
   "metadata": {},
   "outputs": [
    {
     "data": {
      "text/plain": [
       "Technology                45\n",
       "Communication Services    23\n",
       "Healthcare                21\n",
       "Financial Services        19\n",
       "Consumer Cyclical         16\n",
       "Industrials               12\n",
       "Real Estate                7\n",
       "Consumer Defensive         5\n",
       "Utilities                  2\n",
       "Basic Materials            2\n",
       "Energy                     1\n",
       "Name: sector, dtype: int64"
      ]
     },
     "execution_count": 449,
     "metadata": {},
     "output_type": "execute_result"
    }
   ],
   "source": [
    "data.sector.value_counts()"
   ]
  },
  {
   "cell_type": "code",
   "execution_count": 450,
   "metadata": {},
   "outputs": [
    {
     "data": {
      "text/plain": [
       "153"
      ]
     },
     "execution_count": 450,
     "metadata": {},
     "output_type": "execute_result"
    }
   ],
   "source": [
    "len(data.company_name)"
   ]
  },
  {
   "cell_type": "markdown",
   "metadata": {},
   "source": [
    "Are there any trends in which companies have ESG ratings and which do not?"
   ]
  },
  {
   "cell_type": "code",
   "execution_count": null,
   "metadata": {},
   "outputs": [],
   "source": [
    "#colors = \n",
    "sns.barplot(x='ticker_name',y='enterprise_value',hue='tot_esg_score', data=df)"
   ]
  },
  {
   "cell_type": "markdown",
   "metadata": {},
   "source": [
    "To begin statistical analysis, I will use pandas, numpy, and scipy methods to see if there are correlations between ESG ratings and financial performance."
   ]
  },
  {
   "cell_type": "code",
   "execution_count": 492,
   "metadata": {},
   "outputs": [
    {
     "data": {
      "text/plain": [
       "Index(['avg_vol_3month', 'c_level', 'company_name', 'e_score', 'ebitda',\n",
       "       'employees', 'enterprise_value', 'fifty_day_moving_avg', 'forward_pe',\n",
       "       'g_score', 'held_by_insiders', 'held_by_institutions', 'hq', 'industry',\n",
       "       'market_cap', 'peg_ratio', 'profit_margin', 'return_on_assets',\n",
       "       'return_on_equity', 'revenue', 's_score', 'sector', 'tot_cash',\n",
       "       'tot_debt', 'tot_esg_score', 'trailing_pe',\n",
       "       'twohundred_day_moving_avg'],\n",
       "      dtype='object')"
      ]
     },
     "execution_count": 492,
     "metadata": {},
     "output_type": "execute_result"
    }
   ],
   "source": [
    "data.columns"
   ]
  },
  {
   "cell_type": "code",
   "execution_count": 452,
   "metadata": {},
   "outputs": [],
   "source": [
    "data.avg_vol_3month = data.avg_vol_3month.apply(float)\n",
    "data.fifty_day_moving_avg = data.fifty_day_moving_avg.apply(float)\n",
    "data.twohundred_day_moving_avg = data.twohundred_day_moving_avg.apply(float)\n",
    "data.employees = data.employees.apply(float)\n",
    "data.peg_ratio = data.peg_ratio.apply(float)\n",
    "data.tot_cash = data.tot_cash.apply(float)\n",
    "data.tot_debt = data.tot_debt.apply(float)"
   ]
  },
  {
   "cell_type": "code",
   "execution_count": 555,
   "metadata": {},
   "outputs": [],
   "source": [
    "from scipy import stats\n",
    "\n",
    "# dropped = df.drop(['company_name','hq','industry','sector',],axis=1)\n",
    "# correlations = pd.DataFrame([stats.pearsonr(dropped[c],dropped.tot_esg_score) for c in dropped.columns])\n",
    "# correlations.index = dropped.columns\n",
    "\n",
    "correlations = data.corr(method=\"pearson\")['c_level'].sort_values(ascending=False).drop(['c_level'])"
   ]
  },
  {
   "cell_type": "code",
   "execution_count": 556,
   "metadata": {},
   "outputs": [
    {
     "data": {
      "text/plain": [
       "revenue                      0.381108\n",
       "tot_cash                     0.345417\n",
       "enterprise_value             0.322559\n",
       "market_cap                   0.315631\n",
       "employees                    0.301294\n",
       "tot_esg_score                0.293431\n",
       "tot_debt                     0.278347\n",
       "s_score                      0.271542\n",
       "g_score                      0.218375\n",
       "avg_vol_3month               0.193467\n",
       "e_score                      0.172249\n",
       "held_by_insiders             0.156294\n",
       "fifty_day_moving_avg         0.155214\n",
       "twohundred_day_moving_avg    0.149748\n",
       "return_on_assets             0.116955\n",
       "return_on_equity            -0.014529\n",
       "peg_ratio                   -0.107344\n",
       "profit_margin               -0.107982\n",
       "held_by_institutions        -0.308591\n",
       "Name: c_level, dtype: float64"
      ]
     },
     "execution_count": 556,
     "metadata": {},
     "output_type": "execute_result"
    }
   ],
   "source": [
    "correlations"
   ]
  },
  {
   "cell_type": "markdown",
   "metadata": {},
   "source": [
    "No significant correlations exist between ESG scores and performance or value metrics."
   ]
  },
  {
   "cell_type": "code",
   "execution_count": 455,
   "metadata": {},
   "outputs": [
    {
     "data": {
      "text/plain": [
       "<matplotlib.axes._subplots.AxesSubplot at 0x7ff44a02c790>"
      ]
     },
     "execution_count": 455,
     "metadata": {},
     "output_type": "execute_result"
    },
    {
     "data": {
      "image/png": "[encoded data removed]",
      "text/plain": [
       "<Figure size 432x288 with 1 Axes>"
      ]
     },
     "metadata": {
      "needs_background": "light"
     },
     "output_type": "display_data"
    }
   ],
   "source": [
    "import seaborn as sns\n",
    "\n",
    "sns.kdeplot(data['tot_esg_score'], shade=True, label = \"Distribution of ESG Scores\")"
   ]
  },
  {
   "cell_type": "markdown",
   "metadata": {},
   "source": [
    "The graph above helps us to understand why correlations are low between ESG and other metrics. A true ranking that compares muliple companies to eachother would not have such a steep curve. Lets see how many companies fall within a single standard deviation of the mean ESG Score."
   ]
  },
  {
   "cell_type": "code",
   "execution_count": 456,
   "metadata": {},
   "outputs": [
    {
     "data": {
      "text/plain": [
       "max     54.000000\n",
       "min      9.000000\n",
       "mean    23.294118\n",
       "std      7.661320\n",
       "Name: tot_esg_score, dtype: float64"
      ]
     },
     "execution_count": 456,
     "metadata": {},
     "output_type": "execute_result"
    }
   ],
   "source": [
    "data['tot_esg_score'].agg(['max','min','mean','std'])"
   ]
  },
  {
   "cell_type": "code",
   "execution_count": 458,
   "metadata": {},
   "outputs": [
    {
     "data": {
      "text/plain": [
       "0.7189542483660131"
      ]
     },
     "execution_count": 458,
     "metadata": {},
     "output_type": "execute_result"
    }
   ],
   "source": [
    "counter = 0\n",
    "for i in data['tot_esg_score']:\n",
    "    if i > data['tot_esg_score'].mean()-data['tot_esg_score'].std() and i < data['tot_esg_score'].mean()+data['tot_esg_score'].std():\n",
    "        counter += 1\n",
    "counter/data['tot_esg_score'].count()"
   ]
  },
  {
   "cell_type": "code",
   "execution_count": 459,
   "metadata": {},
   "outputs": [
    {
     "data": {
      "text/plain": [
       "<matplotlib.axes._subplots.AxesSubplot at 0x7ff42af876d0>"
      ]
     },
     "execution_count": 459,
     "metadata": {},
     "output_type": "execute_result"
    },
    {
     "data": {
      "image/png": "[encoded data removed]",
      "text/plain": [
       "<Figure size 432x288 with 1 Axes>"
      ]
     },
     "metadata": {
      "needs_background": "light"
     },
     "output_type": "display_data"
    }
   ],
   "source": [
    "sns.boxplot('tot_esg_score', data=data)"
   ]
  },
  {
   "cell_type": "code",
   "execution_count": 567,
   "metadata": {
    "scrolled": false
   },
   "outputs": [
    {
     "ename": "NameError",
     "evalue": "name 'linear' is not defined",
     "output_type": "error",
     "traceback": [
      "\u001b[0;31m---------------------------------------------------------------------------\u001b[0m",
      "\u001b[0;31mNameError\u001b[0m                                 Traceback (most recent call last)",
      "\u001b[0;32m<ipython-input-567-a5bcac043524>\u001b[0m in \u001b[0;36m<module>\u001b[0;34m\u001b[0m\n\u001b[1;32m      6\u001b[0m \u001b[0mplot\u001b[0m\u001b[0;34m.\u001b[0m\u001b[0mtitle\u001b[0m\u001b[0;34m(\u001b[0m\u001b[0;34m'Controversy Rating vs. Revenue'\u001b[0m\u001b[0;34m)\u001b[0m\u001b[0;34m\u001b[0m\u001b[0;34m\u001b[0m\u001b[0m\n\u001b[1;32m      7\u001b[0m \u001b[0mplot\u001b[0m\u001b[0;34m.\u001b[0m\u001b[0mylabel\u001b[0m\u001b[0;34m(\u001b[0m\u001b[0;34m'Revenue'\u001b[0m\u001b[0;34m)\u001b[0m\u001b[0;34m\u001b[0m\u001b[0;34m\u001b[0m\u001b[0m\n\u001b[0;32m----> 8\u001b[0;31m \u001b[0mplot\u001b[0m\u001b[0;34m.\u001b[0m\u001b[0mxscale\u001b[0m\u001b[0;34m(\u001b[0m\u001b[0mlinear\u001b[0m\u001b[0;34m,\u001b[0m\u001b[0;36m1\u001b[0m\u001b[0;34m)\u001b[0m\u001b[0;34m\u001b[0m\u001b[0;34m\u001b[0m\u001b[0m\n\u001b[0m",
      "\u001b[0;31mNameError\u001b[0m: name 'linear' is not defined"
     ]
    },
    {
     "data": {
      "image/png": "[encoded data removed]",
      "text/plain": [
       "<Figure size 432x288 with 1 Axes>"
      ]
     },
     "metadata": {
      "needs_background": "light"
     },
     "output_type": "display_data"
    }
   ],
   "source": [
    "outliers = data[['c_level','revenue']].dropna()\n",
    "outliers = outliers.loc[outliers.apply(lambda x: np.abs(x - x.mean()) / x.std() < 2).all(axis=1)]\n",
    "outliers\n",
    "data.plot.scatter('c_level','revenue',)\n",
    "plot.xlabel('Controversy Risk Level')\n",
    "plot.title('Controversy Rating vs. Revenue')\n",
    "plot.ylabel('Revenue')\n",
    "plot.xscale(1)"
   ]
  },
  {
   "cell_type": "code",
   "execution_count": 434,
   "metadata": {},
   "outputs": [
    {
     "data": {
      "text/plain": [
       "10813770000000.0"
      ]
     },
     "execution_count": 434,
     "metadata": {},
     "output_type": "execute_result"
    }
   ],
   "source": [
    "df.enterprise_value.sum()"
   ]
  },
  {
   "cell_type": "code",
   "execution_count": 445,
   "metadata": {},
   "outputs": [
    {
     "data": {
      "text/plain": [
       "0.705910363848825"
      ]
     },
     "execution_count": 445,
     "metadata": {},
     "output_type": "execute_result"
    }
   ],
   "source": [
    "10813770000000.0/15318899613600.0"
   ]
  },
  {
   "cell_type": "code",
   "execution_count": null,
   "metadata": {},
   "outputs": [],
   "source": []
  }
 ],
 "metadata": {
  "kernelspec": {
   "display_name": "Python 3",
   "language": "python",
   "name": "python3"
  },
  "language_info": {
   "codemirror_mode": {
    "name": "ipython",
    "version": 3
   },
   "file_extension": ".py",
   "mimetype": "text/x-python",
   "name": "python",
   "nbconvert_exporter": "python",
   "pygments_lexer": "ipython3",
   "version": "3.7.6"
  }
 },
 "nbformat": 4,
 "nbformat_minor": 4
}
